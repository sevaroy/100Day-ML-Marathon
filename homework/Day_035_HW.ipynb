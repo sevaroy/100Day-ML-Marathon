{
 "cells": [
  {
   "cell_type": "markdown",
   "metadata": {},
   "source": [
    "## 練習時間\n",
    "相信大家對回歸問題及分類問題都有初步的了解。今天的作業希望大家搜尋有關 multi-label 的案例問題。下圖是電影 \"奇異博士\" 的分類。可以看到同時有 \"Action\", \"Adventure\", \"Fantasy\" 的類別存在，代表這是個多標籤的問題。 "
   ]
  },
  {
   "cell_type": "markdown",
   "metadata": {},
   "source": [
    "![image](https://cdn-images-1.medium.com/max/1000/1*r0gYXMSQf5VhdMyl2bRDyg.png)"
   ]
  },
  {
   "cell_type": "markdown",
   "metadata": {},
   "source": [
    "## 請搜尋目標為多標籤問題 (Multi-label) 的機器學習案例，了解其資料來源、目標以及評估指標為何\n",
    "## Hint: 服飾"
   ]
  },
  {
   "cell_type": "markdown",
   "metadata": {},
   "source": [
    "https://www.kaggle.com/c/imet-2019-fgvc6/overview\n",
    "\n",
    "簡介\n",
    "\n",
    "紐約大都會藝術博物館，也被稱為大都會藝術博物館，收藏了超過150萬件物品，其中超過200K已經用圖像數字化。在線編目信息由主題專家（SME）生成，包括各種數據。這些包括但不限於：多個對象分類，藝術家，標題，時期，日期，媒介，文化，大小，出處，地理位置以及The Met集合中的其他相關博物館對象。雖然SME生成的註釋從藝術史的角度描述了對象，但它們也可以間接地描述博物館參與者理解的更細粒度的屬性。添加細粒度屬性以幫助對博物館對象進行視覺理解將能夠搜索與視覺相關的對象。\n",
    "\n",
    "資料來源\n",
    "\n",
    "This is an FGVCx competition hosted as part of the FGVC6 workshop at CVPR 2019. View the github page for more details.\n"
   ]
  }
 ],
 "metadata": {
  "kernelspec": {
   "display_name": "Python 3",
   "language": "python",
   "name": "python3"
  },
  "language_info": {
   "codemirror_mode": {
    "name": "ipython",
    "version": 3
   },
   "file_extension": ".py",
   "mimetype": "text/x-python",
   "name": "python",
   "nbconvert_exporter": "python",
   "pygments_lexer": "ipython3",
   "version": "3.6.7"
  }
 },
 "nbformat": 4,
 "nbformat_minor": 2
}
