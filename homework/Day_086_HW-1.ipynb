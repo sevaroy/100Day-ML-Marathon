{
 "cells": [
  {
   "cell_type": "markdown",
   "metadata": {},
   "source": [
    "## Work\n",
    "1. 試比較 save_best_only 與否的差異\n",
    "2. 請僅存入將 save_weights_only 設定為 True, 並嘗試 reset ipynb 並將模型與權重重新建回並預測 x_test"
   ]
  },
  {
   "cell_type": "code",
   "execution_count": 1,
   "metadata": {},
   "outputs": [
    {
     "name": "stderr",
     "output_type": "stream",
     "text": [
      "Using TensorFlow backend.\n"
     ]
    }
   ],
   "source": [
    "import os\n",
    "import keras\n",
    "\n",
    "# Disable GPU\n",
    "os.environ[\"CUDA_VISIBLE_DEVICES\"] = \"\""
   ]
  },
  {
   "cell_type": "code",
   "execution_count": 2,
   "metadata": {},
   "outputs": [],
   "source": [
    "train, test = keras.datasets.cifar10.load_data()"
   ]
  },
  {
   "cell_type": "code",
   "execution_count": 3,
   "metadata": {},
   "outputs": [],
   "source": [
    "## 資料前處理\n",
    "def preproc_x(x, flatten=True):\n",
    "    x = x / 255.\n",
    "    if flatten:\n",
    "        x = x.reshape((len(x), -1))\n",
    "    return x\n",
    "\n",
    "def preproc_y(y, num_classes=10):\n",
    "    if y.shape[-1] == 1:\n",
    "        y = keras.utils.to_categorical(y, num_classes)\n",
    "    return y    "
   ]
  },
  {
   "cell_type": "code",
   "execution_count": 4,
   "metadata": {},
   "outputs": [],
   "source": [
    "x_train, y_train = train\n",
    "x_test, y_test = test\n",
    "\n",
    "# Preproc the inputs\n",
    "x_train = preproc_x(x_train)\n",
    "x_test = preproc_x(x_test)\n",
    "\n",
    "# Preprc the outputs\n",
    "y_train = preproc_y(y_train)\n",
    "y_test = preproc_y(y_test)"
   ]
  },
  {
   "cell_type": "code",
   "execution_count": 9,
   "metadata": {},
   "outputs": [],
   "source": [
    "from keras.layers import BatchNormalization\n",
    "\n",
    "def build_mlp(input_shape, output_units=10, num_neurons=[512, 256, 128]):\n",
    "    input_layer = keras.layers.Input(input_shape)\n",
    "\n",
    "    for i, n_units in enumerate(num_neurons):\n",
    "        if i == 0:\n",
    "            x = keras.layers.Dense(units=n_units, \n",
    "                                   activation=\"relu\", \n",
    "                                   name=\"hidden_layer\"+str(i+1))(input_layer)\n",
    "            x = BatchNormalization()(x)\n",
    "        else:\n",
    "            x = keras.layers.Dense(units=n_units, \n",
    "                                   activation=\"relu\", \n",
    "                                   name=\"hidden_layer\"+str(i+1))(x)\n",
    "            x = BatchNormalization()(x)\n",
    "\n",
    "        out = keras.layers.Dense(units=output_units, activation=\"softmax\", name=\"output\")(x)\n",
    "\n",
    "        model = keras.models.Model(inputs=[input_layer], outputs=[out])\n",
    "        return model"
   ]
  },
  {
   "cell_type": "code",
   "execution_count": 10,
   "metadata": {},
   "outputs": [],
   "source": [
    "\n",
    "## 超參數設定\n",
    "LEARNING_RATE = 1e-3\n",
    "EPOCHS = 50\n",
    "BATCH_SIZE = 1024\n",
    "MOMENTUM = 0.95"
   ]
  },
  {
   "cell_type": "code",
   "execution_count": 11,
   "metadata": {},
   "outputs": [
    {
     "name": "stderr",
     "output_type": "stream",
     "text": [
      "WARNING: Logging before flag parsing goes to stderr.\n",
      "W0723 20:19:33.384476 11352 deprecation_wrapper.py:119] From c:\\users\\kehua\\.conda\\envs\\keras\\lib\\site-packages\\keras\\backend\\tensorflow_backend.py:74: The name tf.get_default_graph is deprecated. Please use tf.compat.v1.get_default_graph instead.\n",
      "\n",
      "W0723 20:19:33.396486 11352 deprecation_wrapper.py:119] From c:\\users\\kehua\\.conda\\envs\\keras\\lib\\site-packages\\keras\\backend\\tensorflow_backend.py:517: The name tf.placeholder is deprecated. Please use tf.compat.v1.placeholder instead.\n",
      "\n",
      "W0723 20:19:33.398488 11352 deprecation_wrapper.py:119] From c:\\users\\kehua\\.conda\\envs\\keras\\lib\\site-packages\\keras\\backend\\tensorflow_backend.py:4138: The name tf.random_uniform is deprecated. Please use tf.random.uniform instead.\n",
      "\n",
      "W0723 20:19:33.452537 11352 deprecation_wrapper.py:119] From c:\\users\\kehua\\.conda\\envs\\keras\\lib\\site-packages\\keras\\backend\\tensorflow_backend.py:133: The name tf.placeholder_with_default is deprecated. Please use tf.compat.v1.placeholder_with_default instead.\n",
      "\n",
      "W0723 20:19:33.481564 11352 deprecation_wrapper.py:119] From c:\\users\\kehua\\.conda\\envs\\keras\\lib\\site-packages\\keras\\optimizers.py:790: The name tf.train.Optimizer is deprecated. Please use tf.compat.v1.train.Optimizer instead.\n",
      "\n",
      "W0723 20:19:33.486568 11352 deprecation_wrapper.py:119] From c:\\users\\kehua\\.conda\\envs\\keras\\lib\\site-packages\\keras\\backend\\tensorflow_backend.py:3295: The name tf.log is deprecated. Please use tf.math.log instead.\n",
      "\n",
      "W0723 20:19:33.549626 11352 deprecation.py:323] From c:\\users\\kehua\\.conda\\envs\\keras\\lib\\site-packages\\tensorflow\\python\\ops\\math_grad.py:1250: add_dispatch_support.<locals>.wrapper (from tensorflow.python.ops.array_ops) is deprecated and will be removed in a future version.\n",
      "Instructions for updating:\n",
      "Use tf.where in 2.0, which has the same broadcast rule as np.where\n"
     ]
    },
    {
     "name": "stdout",
     "output_type": "stream",
     "text": [
      "_________________________________________________________________\n",
      "Layer (type)                 Output Shape              Param #   \n",
      "=================================================================\n",
      "input_1 (InputLayer)         (None, 3072)              0         \n",
      "_________________________________________________________________\n",
      "hidden_layer1 (Dense)        (None, 512)               1573376   \n",
      "_________________________________________________________________\n",
      "batch_normalization_1 (Batch (None, 512)               2048      \n",
      "_________________________________________________________________\n",
      "output (Dense)               (None, 10)                5130      \n",
      "=================================================================\n",
      "Total params: 1,580,554\n",
      "Trainable params: 1,579,530\n",
      "Non-trainable params: 1,024\n",
      "_________________________________________________________________\n",
      "Train on 50000 samples, validate on 10000 samples\n",
      "Epoch 1/50\n",
      "50000/50000 [==============================] - 3s 67us/step - loss: 2.1092 - acc: 0.2866 - val_loss: 1.9636 - val_acc: 0.3327\n",
      "Epoch 2/50\n",
      "50000/50000 [==============================] - 3s 59us/step - loss: 1.7346 - acc: 0.3916 - val_loss: 1.7687 - val_acc: 0.3781\n",
      "Epoch 3/50\n",
      "50000/50000 [==============================] - 3s 60us/step - loss: 1.6482 - acc: 0.4250 - val_loss: 1.6772 - val_acc: 0.4174\n",
      "Epoch 4/50\n",
      "50000/50000 [==============================] - 3s 63us/step - loss: 1.5970 - acc: 0.4441 - val_loss: 1.6138 - val_acc: 0.4378\n",
      "Epoch 5/50\n",
      "50000/50000 [==============================] - 3s 61us/step - loss: 1.5592 - acc: 0.4582 - val_loss: 1.5998 - val_acc: 0.4394\n",
      "Epoch 6/50\n",
      "50000/50000 [==============================] - 3s 59us/step - loss: 1.5286 - acc: 0.4707 - val_loss: 1.5877 - val_acc: 0.4429\n",
      "Epoch 7/50\n",
      "50000/50000 [==============================] - 3s 61us/step - loss: 1.5042 - acc: 0.4778 - val_loss: 1.5548 - val_acc: 0.4555\n",
      "Epoch 8/50\n",
      "50000/50000 [==============================] - 3s 59us/step - loss: 1.4802 - acc: 0.4854 - val_loss: 1.5470 - val_acc: 0.4553\n",
      "Epoch 9/50\n",
      "50000/50000 [==============================] - 3s 60us/step - loss: 1.4583 - acc: 0.4951 - val_loss: 1.5343 - val_acc: 0.4601\n",
      "Epoch 10/50\n",
      "50000/50000 [==============================] - 3s 61us/step - loss: 1.4385 - acc: 0.5010 - val_loss: 1.5061 - val_acc: 0.4739\n",
      "Epoch 11/50\n",
      "50000/50000 [==============================] - 3s 59us/step - loss: 1.4187 - acc: 0.5100 - val_loss: 1.4996 - val_acc: 0.4730\n",
      "Epoch 12/50\n",
      "50000/50000 [==============================] - 3s 59us/step - loss: 1.4026 - acc: 0.5159 - val_loss: 1.4883 - val_acc: 0.4774\n",
      "Epoch 13/50\n",
      "50000/50000 [==============================] - 3s 59us/step - loss: 1.3856 - acc: 0.5207 - val_loss: 1.4878 - val_acc: 0.4790\n",
      "Epoch 14/50\n",
      "50000/50000 [==============================] - 3s 60us/step - loss: 1.3693 - acc: 0.5273 - val_loss: 1.4778 - val_acc: 0.4841\n",
      "Epoch 15/50\n",
      "50000/50000 [==============================] - 3s 61us/step - loss: 1.3553 - acc: 0.5323 - val_loss: 1.4589 - val_acc: 0.4905\n",
      "Epoch 16/50\n",
      "50000/50000 [==============================] - 3s 61us/step - loss: 1.3408 - acc: 0.5382 - val_loss: 1.4661 - val_acc: 0.4853\n",
      "Epoch 17/50\n",
      "50000/50000 [==============================] - 3s 60us/step - loss: 1.3267 - acc: 0.5430 - val_loss: 1.4657 - val_acc: 0.4843\n",
      "Epoch 18/50\n",
      "50000/50000 [==============================] - 3s 60us/step - loss: 1.3136 - acc: 0.5472 - val_loss: 1.4420 - val_acc: 0.4979\n",
      "Epoch 19/50\n",
      "50000/50000 [==============================] - 3s 60us/step - loss: 1.3002 - acc: 0.5529 - val_loss: 1.4460 - val_acc: 0.4944\n",
      "Epoch 20/50\n",
      "50000/50000 [==============================] - 3s 63us/step - loss: 1.2880 - acc: 0.5565 - val_loss: 1.4430 - val_acc: 0.4973\n",
      "Epoch 21/50\n",
      "50000/50000 [==============================] - 3s 66us/step - loss: 1.2746 - acc: 0.5627 - val_loss: 1.4383 - val_acc: 0.4969\n",
      "Epoch 22/50\n",
      "50000/50000 [==============================] - 3s 62us/step - loss: 1.2630 - acc: 0.5667 - val_loss: 1.4241 - val_acc: 0.5041\n",
      "Epoch 23/50\n",
      "50000/50000 [==============================] - 3s 60us/step - loss: 1.2499 - acc: 0.5720 - val_loss: 1.4211 - val_acc: 0.5022\n",
      "Epoch 24/50\n",
      "50000/50000 [==============================] - 3s 60us/step - loss: 1.2388 - acc: 0.5754 - val_loss: 1.4132 - val_acc: 0.5090\n",
      "Epoch 25/50\n",
      "50000/50000 [==============================] - 3s 60us/step - loss: 1.2274 - acc: 0.5784 - val_loss: 1.4156 - val_acc: 0.5035\n",
      "Epoch 26/50\n",
      "50000/50000 [==============================] - 3s 62us/step - loss: 1.2163 - acc: 0.5833 - val_loss: 1.4079 - val_acc: 0.5082\n",
      "Epoch 27/50\n",
      "50000/50000 [==============================] - 3s 60us/step - loss: 1.2043 - acc: 0.5890 - val_loss: 1.3969 - val_acc: 0.5131\n",
      "Epoch 28/50\n",
      "50000/50000 [==============================] - 3s 59us/step - loss: 1.1942 - acc: 0.5925 - val_loss: 1.3965 - val_acc: 0.5129\n",
      "Epoch 29/50\n",
      "50000/50000 [==============================] - 3s 59us/step - loss: 1.1824 - acc: 0.5976 - val_loss: 1.3905 - val_acc: 0.5134\n",
      "Epoch 30/50\n",
      "50000/50000 [==============================] - 3s 59us/step - loss: 1.1723 - acc: 0.5994 - val_loss: 1.3957 - val_acc: 0.5100\n",
      "Epoch 31/50\n",
      "50000/50000 [==============================] - 3s 62us/step - loss: 1.1601 - acc: 0.6049 - val_loss: 1.3929 - val_acc: 0.5097\n",
      "Epoch 32/50\n",
      "50000/50000 [==============================] - 3s 59us/step - loss: 1.1501 - acc: 0.6100 - val_loss: 1.3892 - val_acc: 0.5098\n",
      "Epoch 33/50\n",
      "50000/50000 [==============================] - 3s 59us/step - loss: 1.1407 - acc: 0.6126 - val_loss: 1.3902 - val_acc: 0.5171\n",
      "Epoch 34/50\n",
      "50000/50000 [==============================] - 3s 59us/step - loss: 1.1312 - acc: 0.6160 - val_loss: 1.3871 - val_acc: 0.5195\n",
      "Epoch 35/50\n",
      "50000/50000 [==============================] - 3s 63us/step - loss: 1.1211 - acc: 0.6189 - val_loss: 1.3883 - val_acc: 0.5221\n",
      "Epoch 36/50\n",
      "50000/50000 [==============================] - 3s 65us/step - loss: 1.1118 - acc: 0.6229 - val_loss: 1.3853 - val_acc: 0.5197\n",
      "Epoch 37/50\n",
      "50000/50000 [==============================] - 3s 61us/step - loss: 1.1006 - acc: 0.6267 - val_loss: 1.3835 - val_acc: 0.5176\n",
      "Epoch 38/50\n",
      "50000/50000 [==============================] - 3s 60us/step - loss: 1.0901 - acc: 0.6316 - val_loss: 1.3890 - val_acc: 0.5186\n",
      "Epoch 39/50\n",
      "50000/50000 [==============================] - 3s 60us/step - loss: 1.0799 - acc: 0.6342 - val_loss: 1.3753 - val_acc: 0.5182\n",
      "Epoch 40/50\n",
      "50000/50000 [==============================] - 3s 59us/step - loss: 1.0701 - acc: 0.6386 - val_loss: 1.3812 - val_acc: 0.5171\n",
      "Epoch 41/50\n",
      "50000/50000 [==============================] - 3s 60us/step - loss: 1.0610 - acc: 0.6425 - val_loss: 1.3782 - val_acc: 0.5207\n",
      "Epoch 42/50\n",
      "50000/50000 [==============================] - 3s 60us/step - loss: 1.0518 - acc: 0.6458 - val_loss: 1.3883 - val_acc: 0.5162\n",
      "Epoch 43/50\n",
      "50000/50000 [==============================] - 3s 59us/step - loss: 1.0422 - acc: 0.6489 - val_loss: 1.3809 - val_acc: 0.5241\n",
      "Epoch 44/50\n",
      "50000/50000 [==============================] - 3s 61us/step - loss: 1.0316 - acc: 0.6529 - val_loss: 1.3817 - val_acc: 0.5212\n",
      "Epoch 45/50\n",
      "50000/50000 [==============================] - 3s 61us/step - loss: 1.0245 - acc: 0.6566 - val_loss: 1.3841 - val_acc: 0.5207\n",
      "Epoch 46/50\n",
      "50000/50000 [==============================] - 3s 61us/step - loss: 1.0151 - acc: 0.6609 - val_loss: 1.3776 - val_acc: 0.5159\n",
      "Epoch 47/50\n",
      "50000/50000 [==============================] - 3s 63us/step - loss: 1.0057 - acc: 0.6642 - val_loss: 1.3877 - val_acc: 0.5215\n",
      "Epoch 48/50\n",
      "50000/50000 [==============================] - 3s 61us/step - loss: 0.9962 - acc: 0.6659 - val_loss: 1.3767 - val_acc: 0.5231\n",
      "Epoch 49/50\n",
      "50000/50000 [==============================] - 3s 60us/step - loss: 0.9864 - acc: 0.6696 - val_loss: 1.3839 - val_acc: 0.5171\n",
      "Epoch 50/50\n",
      "50000/50000 [==============================] - 3s 60us/step - loss: 0.9782 - acc: 0.6741 - val_loss: 1.3916 - val_acc: 0.5126\n",
      "10000/10000 [==============================] - 1s 59us/step\n"
     ]
    }
   ],
   "source": [
    "# 載入 Callbacks\n",
    "\"\"\"Code Here\n",
    "設定 callbacks: model checkpoint\n",
    "\"\"\"\n",
    "from keras.callbacks import ModelCheckpoint\n",
    "model_ckpt = ModelCheckpoint(filepath=\"./tmp.h5\", \n",
    "                             monitor=\"val_loss\", \n",
    "                             save_best_only=False)\n",
    "results = {}\n",
    "\"\"\"Code Here\n",
    "撰寫你的訓練流程並將結果用 dictionary 紀錄\n",
    "\"\"\"\n",
    "model = build_mlp(input_shape=x_train.shape[1:])\n",
    "model.summary()\n",
    "optimizer = keras.optimizers.SGD(lr=LEARNING_RATE, nesterov=True, momentum=MOMENTUM)\n",
    "model.compile(loss=\"categorical_crossentropy\", metrics=[\"accuracy\"], optimizer=optimizer)\n",
    "\n",
    "model.fit(x_train, y_train, \n",
    "          epochs=EPOCHS, \n",
    "          batch_size=BATCH_SIZE, \n",
    "          validation_data=(x_test, y_test), \n",
    "          shuffle=True,\n",
    "          callbacks=[model_ckpt]\n",
    "         )\n",
    "\n",
    "# Collect results\n",
    "train_loss = model.history.history[\"loss\"]\n",
    "valid_loss = model.history.history[\"val_loss\"]\n",
    "train_acc = model.history.history[\"acc\"]\n",
    "valid_acc = model.history.history[\"val_acc\"]\n",
    "\n",
    "# Load back\n",
    "model = keras.models.load_model(\"./tmp.h5\")\n",
    "loss_loadback, acc_loadback = model.evaluate(x_test, y_test)"
   ]
  },
  {
   "cell_type": "code",
   "execution_count": 12,
   "metadata": {
    "scrolled": true
   },
   "outputs": [
    {
     "data": {
      "image/png": "[encoded data removed]",
      "text/plain": [
       "<Figure size 432x288 with 1 Axes>"
      ]
     },
     "metadata": {
      "needs_background": "light"
     },
     "output_type": "display_data"
    },
    {
     "data": {
      "image/png": "[encoded data removed]",
      "text/plain": [
       "<Figure size 432x288 with 1 Axes>"
      ]
     },
     "metadata": {
      "needs_background": "light"
     },
     "output_type": "display_data"
    }
   ],
   "source": [
    "import matplotlib.pyplot as plt\n",
    "%matplotlib inline\n",
    "\n",
    "plt.plot(range(len(train_loss)), train_loss, label=\"train loss\")\n",
    "plt.plot(range(len(valid_loss)), valid_loss, label=\"valid loss\")\n",
    "plt.hlines(y=loss_loadback, xmin=0, xmax=len(train_loss), colors='r', linestyles='--')\n",
    "plt.legend()\n",
    "plt.title(\"Loss\")\n",
    "plt.show()\n",
    "\n",
    "plt.plot(range(len(train_acc)), train_acc, label=\"train accuracy\")\n",
    "plt.plot(range(len(valid_acc)), valid_acc, label=\"valid accuracy\")\n",
    "plt.hlines(y=acc_loadback, xmin=0, xmax=len(train_loss), colors='r', linestyles='--')\n",
    "plt.legend()\n",
    "plt.title(\"Accuracy\")\n",
    "plt.show()"
   ]
  },
  {
   "cell_type": "code",
   "execution_count": null,
   "metadata": {},
   "outputs": [],
   "source": []
  }
 ],
 "metadata": {
  "kernelspec": {
   "display_name": "Python 3",
   "language": "python",
   "name": "python3"
  },
  "language_info": {
   "codemirror_mode": {
    "name": "ipython",
    "version": 3
   },
   "file_extension": ".py",
   "mimetype": "text/x-python",
   "name": "python",
   "nbconvert_exporter": "python",
   "pygments_lexer": "ipython3",
   "version": "3.7.3"
  }
 },
 "nbformat": 4,
 "nbformat_minor": 2
}
