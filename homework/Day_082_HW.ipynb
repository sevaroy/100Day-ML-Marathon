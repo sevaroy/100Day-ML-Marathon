{
 "cells": [
  {
   "cell_type": "markdown",
   "metadata": {},
   "source": [
    "## Work\n",
    "1. 請比較使用不同層數以及不同 Dropout rate 對訓練的效果\n",
    "2. 將 optimizer 改成使用 Adam 並加上適當的 dropout rate 檢視結果"
   ]
  },
  {
   "cell_type": "code",
   "execution_count": 1,
   "metadata": {},
   "outputs": [
    {
     "name": "stderr",
     "output_type": "stream",
     "text": [
      "Using TensorFlow backend.\n"
     ]
    }
   ],
   "source": [
    "import os\n",
    "import keras\n",
    "import itertools\n",
    "# Disable GPU\n",
    "os.environ[\"CUDA_VISIBLE_DEVICES\"] = \"\""
   ]
  },
  {
   "cell_type": "code",
   "execution_count": 2,
   "metadata": {},
   "outputs": [],
   "source": [
    "train, test = keras.datasets.cifar10.load_data()"
   ]
  },
  {
   "cell_type": "code",
   "execution_count": 3,
   "metadata": {},
   "outputs": [],
   "source": [
    "## 資料前處理\n",
    "def preproc_x(x, flatten=True):\n",
    "    x = x / 255.\n",
    "    if flatten:\n",
    "        x = x.reshape((len(x), -1))\n",
    "    return x\n",
    "\n",
    "def preproc_y(y, num_classes=10):\n",
    "    if y.shape[-1] == 1:\n",
    "        y = keras.utils.to_categorical(y, num_classes)\n",
    "    return y    "
   ]
  },
  {
   "cell_type": "code",
   "execution_count": 4,
   "metadata": {},
   "outputs": [],
   "source": [
    "x_train, y_train = train\n",
    "x_test, y_test = test\n",
    "\n",
    "# Preproc the inputs\n",
    "x_train = preproc_x(x_train)\n",
    "x_test = preproc_x(x_test)\n",
    "\n",
    "# Preprc the outputs\n",
    "y_train = preproc_y(y_train)\n",
    "y_test = preproc_y(y_test)"
   ]
  },
  {
   "cell_type": "code",
   "execution_count": 5,
   "metadata": {},
   "outputs": [],
   "source": [
    "from keras.layers import Dropout\n",
    "\n",
    "\"\"\"\n",
    "建立神經網路，並加入 dropout layer\n",
    "\"\"\"\n",
    "def build_mlp(input_shape, output_units=10, num_neurons=[512, 256, 128], drp_ratio=0.4):\n",
    "    input_layer = keras.layers.Input(input_shape)\n",
    "    \n",
    "    for i, n_units in enumerate(num_neurons):\n",
    "        if i == 0:\n",
    "            x = keras.layers.Dense(units=n_units, \n",
    "                                   activation=\"relu\", \n",
    "                                   name=\"hidden_layer\"+str(i+1))(input_layer)\n",
    "            x = Dropout(drp_ratio)(x)\n",
    "        else:\n",
    "            x = keras.layers.Dense(units=n_units, \n",
    "                                   activation=\"relu\", \n",
    "                                   name=\"hidden_layer\"+str(i+1))(x)\n",
    "            x = Dropout(drp_ratio)(x)\n",
    "    \n",
    "    out = keras.layers.Dense(units=output_units, activation=\"softmax\", name=\"output\")(x)\n",
    "    \n",
    "    model = keras.models.Model(inputs=[input_layer], outputs=[out])\n",
    "    return model"
   ]
  },
  {
   "cell_type": "code",
   "execution_count": 6,
   "metadata": {},
   "outputs": [],
   "source": [
    "## 超參數設定\n",
    "LEARNING_RATE = 1e-3\n",
    "EPOCHS = 50\n",
    "BATCH_SIZE = 256\n",
    "MOMENTUM = 0.95\n",
    "Dropout_EXP = 0.25"
   ]
  },
  {
   "cell_type": "code",
   "execution_count": 7,
   "metadata": {
    "scrolled": true
   },
   "outputs": [
    {
     "name": "stderr",
     "output_type": "stream",
     "text": [
      "WARNING: Logging before flag parsing goes to stderr.\n",
      "W0721 01:07:04.193402 12720 deprecation_wrapper.py:119] From c:\\users\\kehua\\.conda\\envs\\keras\\lib\\site-packages\\keras\\backend\\tensorflow_backend.py:74: The name tf.get_default_graph is deprecated. Please use tf.compat.v1.get_default_graph instead.\n",
      "\n",
      "W0721 01:07:04.206414 12720 deprecation_wrapper.py:119] From c:\\users\\kehua\\.conda\\envs\\keras\\lib\\site-packages\\keras\\backend\\tensorflow_backend.py:517: The name tf.placeholder is deprecated. Please use tf.compat.v1.placeholder instead.\n",
      "\n",
      "W0721 01:07:04.208415 12720 deprecation_wrapper.py:119] From c:\\users\\kehua\\.conda\\envs\\keras\\lib\\site-packages\\keras\\backend\\tensorflow_backend.py:4138: The name tf.random_uniform is deprecated. Please use tf.random.uniform instead.\n",
      "\n",
      "W0721 01:07:04.218425 12720 deprecation_wrapper.py:119] From c:\\users\\kehua\\.conda\\envs\\keras\\lib\\site-packages\\keras\\backend\\tensorflow_backend.py:133: The name tf.placeholder_with_default is deprecated. Please use tf.compat.v1.placeholder_with_default instead.\n",
      "\n",
      "W0721 01:07:04.223429 12720 deprecation.py:506] From c:\\users\\kehua\\.conda\\envs\\keras\\lib\\site-packages\\keras\\backend\\tensorflow_backend.py:3445: calling dropout (from tensorflow.python.ops.nn_ops) with keep_prob is deprecated and will be removed in a future version.\n",
      "Instructions for updating:\n",
      "Please use `rate` instead of `keep_prob`. Rate should be set to `rate = 1 - keep_prob`.\n",
      "W0721 01:07:04.291491 12720 deprecation_wrapper.py:119] From c:\\users\\kehua\\.conda\\envs\\keras\\lib\\site-packages\\keras\\optimizers.py:790: The name tf.train.Optimizer is deprecated. Please use tf.compat.v1.train.Optimizer instead.\n",
      "\n",
      "W0721 01:07:04.296495 12720 deprecation_wrapper.py:119] From c:\\users\\kehua\\.conda\\envs\\keras\\lib\\site-packages\\keras\\backend\\tensorflow_backend.py:3295: The name tf.log is deprecated. Please use tf.math.log instead.\n",
      "\n",
      "W0721 01:07:04.359553 12720 deprecation.py:323] From c:\\users\\kehua\\.conda\\envs\\keras\\lib\\site-packages\\tensorflow\\python\\ops\\math_grad.py:1250: add_dispatch_support.<locals>.wrapper (from tensorflow.python.ops.array_ops) is deprecated and will be removed in a future version.\n",
      "Instructions for updating:\n",
      "Use tf.where in 2.0, which has the same broadcast rule as np.where\n"
     ]
    },
    {
     "name": "stdout",
     "output_type": "stream",
     "text": [
      "_________________________________________________________________\n",
      "Layer (type)                 Output Shape              Param #   \n",
      "=================================================================\n",
      "input_1 (InputLayer)         (None, 3072)              0         \n",
      "_________________________________________________________________\n",
      "hidden_layer1 (Dense)        (None, 512)               1573376   \n",
      "_________________________________________________________________\n",
      "dropout_1 (Dropout)          (None, 512)               0         \n",
      "_________________________________________________________________\n",
      "hidden_layer2 (Dense)        (None, 256)               131328    \n",
      "_________________________________________________________________\n",
      "dropout_2 (Dropout)          (None, 256)               0         \n",
      "_________________________________________________________________\n",
      "hidden_layer3 (Dense)        (None, 128)               32896     \n",
      "_________________________________________________________________\n",
      "dropout_3 (Dropout)          (None, 128)               0         \n",
      "_________________________________________________________________\n",
      "output (Dense)               (None, 10)                1290      \n",
      "=================================================================\n",
      "Total params: 1,738,890\n",
      "Trainable params: 1,738,890\n",
      "Non-trainable params: 0\n",
      "_________________________________________________________________\n",
      "Train on 50000 samples, validate on 10000 samples\n",
      "Epoch 1/50\n",
      "50000/50000 [==============================] - 7s 149us/step - loss: 2.0521 - acc: 0.2436 - val_loss: 1.8417 - val_acc: 0.3395\n",
      "Epoch 2/50\n",
      "50000/50000 [==============================] - 7s 144us/step - loss: 1.8680 - acc: 0.3230 - val_loss: 1.8072 - val_acc: 0.3662\n",
      "Epoch 3/50\n",
      "50000/50000 [==============================] - 7s 143us/step - loss: 1.8133 - acc: 0.3446 - val_loss: 1.7277 - val_acc: 0.3890\n",
      "Epoch 4/50\n",
      "50000/50000 [==============================] - 7s 144us/step - loss: 1.7751 - acc: 0.3583 - val_loss: 1.6462 - val_acc: 0.4134\n",
      "Epoch 5/50\n",
      "50000/50000 [==============================] - 7s 148us/step - loss: 1.7393 - acc: 0.3734 - val_loss: 1.6318 - val_acc: 0.4282\n",
      "Epoch 6/50\n",
      "50000/50000 [==============================] - 7s 142us/step - loss: 1.7263 - acc: 0.3767 - val_loss: 1.6291 - val_acc: 0.4235\n",
      "Epoch 7/50\n",
      "50000/50000 [==============================] - 7s 144us/step - loss: 1.7069 - acc: 0.3847 - val_loss: 1.6049 - val_acc: 0.4350\n",
      "Epoch 8/50\n",
      "50000/50000 [==============================] - 7s 143us/step - loss: 1.6793 - acc: 0.3925 - val_loss: 1.5857 - val_acc: 0.4326\n",
      "Epoch 9/50\n",
      "50000/50000 [==============================] - 7s 143us/step - loss: 1.6654 - acc: 0.4009 - val_loss: 1.5623 - val_acc: 0.4500\n",
      "Epoch 10/50\n",
      "50000/50000 [==============================] - 7s 141us/step - loss: 1.6502 - acc: 0.4054 - val_loss: 1.5681 - val_acc: 0.4455\n",
      "Epoch 11/50\n",
      "50000/50000 [==============================] - 7s 143us/step - loss: 1.6394 - acc: 0.4095 - val_loss: 1.5760 - val_acc: 0.4381\n",
      "Epoch 12/50\n",
      "50000/50000 [==============================] - 7s 141us/step - loss: 1.6395 - acc: 0.4092 - val_loss: 1.5666 - val_acc: 0.4421\n",
      "Epoch 13/50\n",
      "50000/50000 [==============================] - 7s 142us/step - loss: 1.6301 - acc: 0.4124 - val_loss: 1.5668 - val_acc: 0.4541\n",
      "Epoch 14/50\n",
      "50000/50000 [==============================] - 7s 141us/step - loss: 1.6206 - acc: 0.4155 - val_loss: 1.5541 - val_acc: 0.4487\n",
      "Epoch 15/50\n",
      "50000/50000 [==============================] - 7s 144us/step - loss: 1.6109 - acc: 0.4196 - val_loss: 1.5273 - val_acc: 0.4583\n",
      "Epoch 16/50\n",
      "50000/50000 [==============================] - 7s 142us/step - loss: 1.6021 - acc: 0.4222 - val_loss: 1.5342 - val_acc: 0.4539\n",
      "Epoch 17/50\n",
      "50000/50000 [==============================] - 7s 142us/step - loss: 1.6028 - acc: 0.4225 - val_loss: 1.5167 - val_acc: 0.4665\n",
      "Epoch 18/50\n",
      "50000/50000 [==============================] - 7s 144us/step - loss: 1.5836 - acc: 0.4308 - val_loss: 1.5269 - val_acc: 0.4711\n",
      "Epoch 19/50\n",
      "50000/50000 [==============================] - 7s 144us/step - loss: 1.5805 - acc: 0.4306 - val_loss: 1.5279 - val_acc: 0.4572\n",
      "Epoch 20/50\n",
      "50000/50000 [==============================] - 7s 148us/step - loss: 1.5670 - acc: 0.4359 - val_loss: 1.4831 - val_acc: 0.4709\n",
      "Epoch 21/50\n",
      "50000/50000 [==============================] - 7s 144us/step - loss: 1.5709 - acc: 0.4339 - val_loss: 1.5315 - val_acc: 0.4584\n",
      "Epoch 22/50\n",
      "50000/50000 [==============================] - 7s 145us/step - loss: 1.5593 - acc: 0.4402 - val_loss: 1.5026 - val_acc: 0.4701\n",
      "Epoch 23/50\n",
      "50000/50000 [==============================] - 7s 144us/step - loss: 1.5539 - acc: 0.4426 - val_loss: 1.5121 - val_acc: 0.4719\n",
      "Epoch 24/50\n",
      "50000/50000 [==============================] - 7s 148us/step - loss: 1.5535 - acc: 0.4410 - val_loss: 1.5156 - val_acc: 0.4696\n",
      "Epoch 25/50\n",
      "50000/50000 [==============================] - 7s 143us/step - loss: 1.5561 - acc: 0.4403 - val_loss: 1.5057 - val_acc: 0.4597\n",
      "Epoch 26/50\n",
      "50000/50000 [==============================] - 7s 145us/step - loss: 1.5486 - acc: 0.4419 - val_loss: 1.4965 - val_acc: 0.4653\n",
      "Epoch 27/50\n",
      "50000/50000 [==============================] - 7s 144us/step - loss: 1.5380 - acc: 0.4450 - val_loss: 1.4755 - val_acc: 0.4826\n",
      "Epoch 28/50\n",
      "50000/50000 [==============================] - 7s 145us/step - loss: 1.5330 - acc: 0.4479 - val_loss: 1.5046 - val_acc: 0.4632\n",
      "Epoch 29/50\n",
      "50000/50000 [==============================] - 7s 144us/step - loss: 1.5260 - acc: 0.4485 - val_loss: 1.4780 - val_acc: 0.4802\n",
      "Epoch 30/50\n",
      "50000/50000 [==============================] - 7s 142us/step - loss: 1.5275 - acc: 0.4500 - val_loss: 1.4673 - val_acc: 0.4854\n",
      "Epoch 31/50\n",
      "50000/50000 [==============================] - 7s 143us/step - loss: 1.5324 - acc: 0.4510 - val_loss: 1.4888 - val_acc: 0.4723\n",
      "Epoch 32/50\n",
      "50000/50000 [==============================] - 7s 142us/step - loss: 1.5249 - acc: 0.4522 - val_loss: 1.4720 - val_acc: 0.4885\n",
      "Epoch 33/50\n",
      "50000/50000 [==============================] - 7s 145us/step - loss: 1.5199 - acc: 0.4545 - val_loss: 1.4564 - val_acc: 0.4870\n",
      "Epoch 34/50\n",
      "50000/50000 [==============================] - 7s 142us/step - loss: 1.5091 - acc: 0.4570 - val_loss: 1.4640 - val_acc: 0.4844\n",
      "Epoch 35/50\n",
      "50000/50000 [==============================] - 7s 143us/step - loss: 1.5020 - acc: 0.4618 - val_loss: 1.4442 - val_acc: 0.4921\n",
      "Epoch 36/50\n",
      "50000/50000 [==============================] - 7s 143us/step - loss: 1.5056 - acc: 0.4572 - val_loss: 1.4486 - val_acc: 0.4837\n",
      "Epoch 37/50\n",
      "50000/50000 [==============================] - 7s 144us/step - loss: 1.4974 - acc: 0.4611 - val_loss: 1.4559 - val_acc: 0.4882\n",
      "Epoch 38/50\n",
      "50000/50000 [==============================] - 7s 144us/step - loss: 1.4921 - acc: 0.4624 - val_loss: 1.4412 - val_acc: 0.4863\n",
      "Epoch 39/50\n",
      "50000/50000 [==============================] - 7s 142us/step - loss: 1.4921 - acc: 0.4614 - val_loss: 1.4575 - val_acc: 0.4820\n",
      "Epoch 40/50\n",
      "50000/50000 [==============================] - 7s 145us/step - loss: 1.4992 - acc: 0.4589 - val_loss: 1.4568 - val_acc: 0.4850\n",
      "Epoch 41/50\n",
      "50000/50000 [==============================] - 7s 145us/step - loss: 1.4930 - acc: 0.4629 - val_loss: 1.4334 - val_acc: 0.4955\n",
      "Epoch 42/50\n",
      "50000/50000 [==============================] - 7s 147us/step - loss: 1.4880 - acc: 0.4624 - val_loss: 1.4528 - val_acc: 0.4845\n",
      "Epoch 43/50\n",
      "50000/50000 [==============================] - 7s 144us/step - loss: 1.4813 - acc: 0.4666 - val_loss: 1.4433 - val_acc: 0.4877\n",
      "Epoch 44/50\n",
      "50000/50000 [==============================] - 7s 147us/step - loss: 1.4766 - acc: 0.4665 - val_loss: 1.4337 - val_acc: 0.4917\n",
      "Epoch 45/50\n",
      "50000/50000 [==============================] - 7s 145us/step - loss: 1.4723 - acc: 0.4692 - val_loss: 1.4623 - val_acc: 0.4813\n",
      "Epoch 46/50\n",
      "50000/50000 [==============================] - 7s 146us/step - loss: 1.4700 - acc: 0.4741 - val_loss: 1.4542 - val_acc: 0.4867\n",
      "Epoch 47/50\n",
      "50000/50000 [==============================] - 7s 144us/step - loss: 1.4709 - acc: 0.4681 - val_loss: 1.4342 - val_acc: 0.4928\n",
      "Epoch 48/50\n",
      "50000/50000 [==============================] - 7s 143us/step - loss: 1.4770 - acc: 0.4695 - val_loss: 1.4230 - val_acc: 0.4927\n",
      "Epoch 49/50\n"
     ]
    },
    {
     "name": "stdout",
     "output_type": "stream",
     "text": [
      "50000/50000 [==============================] - 7s 145us/step - loss: 1.4668 - acc: 0.4719 - val_loss: 1.4633 - val_acc: 0.4823\n",
      "Epoch 50/50\n",
      "50000/50000 [==============================] - 7s 144us/step - loss: 1.4686 - acc: 0.4705 - val_loss: 1.4514 - val_acc: 0.4833\n"
     ]
    }
   ],
   "source": [
    "model = build_mlp(input_shape=x_train.shape[1:], drp_ratio=Dropout_EXP)\n",
    "model.summary()\n",
    "#optimizer = keras.optimizers.SGD(lr=LEARNING_RATE, nesterov=True, momentum=MOMENTUM)\n",
    "optimizer = keras.optimizers.Adam(lr=0.001, beta_1=0.9, beta_2=0.999, epsilon=None, decay=0.0, amsgrad=False)\n",
    "\n",
    "model.compile(loss=\"categorical_crossentropy\", metrics=[\"accuracy\"], optimizer=optimizer)\n",
    "\n",
    "model.fit(x_train, y_train, \n",
    "          epochs=EPOCHS, \n",
    "          batch_size=BATCH_SIZE, \n",
    "          validation_data=(x_test, y_test), \n",
    "          shuffle=True)\n",
    "\n",
    "# Collect results\n",
    "train_loss = model.history.history[\"loss\"]\n",
    "valid_loss = model.history.history[\"val_loss\"]\n",
    "train_acc = model.history.history[\"acc\"]\n",
    "valid_acc = model.history.history[\"val_acc\"]"
   ]
  },
  {
   "cell_type": "code",
   "execution_count": 8,
   "metadata": {},
   "outputs": [
    {
     "data": {
      "image/png": "[encoded data removed]",
      "text/plain": [
       "<Figure size 432x288 with 1 Axes>"
      ]
     },
     "metadata": {
      "needs_background": "light"
     },
     "output_type": "display_data"
    },
    {
     "data": {
      "image/png": "[encoded data removed]",
      "text/plain": [
       "<Figure size 432x288 with 1 Axes>"
      ]
     },
     "metadata": {
      "needs_background": "light"
     },
     "output_type": "display_data"
    }
   ],
   "source": [
    "import matplotlib.pyplot as plt\n",
    "%matplotlib inline\n",
    "\n",
    "plt.plot(range(len(train_loss)), train_loss, label=\"train loss\")\n",
    "plt.plot(range(len(valid_loss)), valid_loss, label=\"valid loss\")\n",
    "plt.legend()\n",
    "plt.title(\"Loss\")\n",
    "plt.show()\n",
    "\n",
    "plt.plot(range(len(train_acc)), train_acc, label=\"train accuracy\")\n",
    "plt.plot(range(len(valid_acc)), valid_acc, label=\"valid accuracy\")\n",
    "plt.legend()\n",
    "plt.title(\"Accuracy\")\n",
    "plt.show()"
   ]
  },
  {
   "cell_type": "code",
   "execution_count": null,
   "metadata": {},
   "outputs": [],
   "source": []
  }
 ],
 "metadata": {
  "kernelspec": {
   "display_name": "Python 3",
   "language": "python",
   "name": "python3"
  },
  "language_info": {
   "codemirror_mode": {
    "name": "ipython",
    "version": 3
   },
   "file_extension": ".py",
   "mimetype": "text/x-python",
   "name": "python",
   "nbconvert_exporter": "python",
   "pygments_lexer": "ipython3",
   "version": "3.7.3"
  }
 },
 "nbformat": 4,
 "nbformat_minor": 2
}
