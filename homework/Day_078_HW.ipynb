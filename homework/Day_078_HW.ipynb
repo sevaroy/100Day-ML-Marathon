{
 "cells": [
  {
   "cell_type": "markdown",
   "metadata": {},
   "source": [
    "## Work\n",
    "1. 請嘗試將 preproc_x 替換成以每筆資料的 min/max 進行標準化至 -1 ~ 1 間，再進行訓練\n",
    "2. 請嘗試將 mlp 疊更深 (e.g 5~10 層)，進行訓練後觀察 learning curve 的走勢\n",
    "3. (optional) 請改用 GPU 進行訓練 (如果你有 GPU 的話)，比較使用 CPU 與 GPU 的訓練速度"
   ]
  },
  {
   "cell_type": "code",
   "execution_count": 1,
   "metadata": {},
   "outputs": [
    {
     "name": "stdout",
     "output_type": "stream",
     "text": [
      "/bin/sh: 1: nvidia-smi: not found\r\n"
     ]
    }
   ],
   "source": [
    "## \n",
    "\"\"\"\n",
    "Your code here (optional)\n",
    "確認硬體資源\n",
    "\"\"\"\n",
    "!nvidia-smi"
   ]
  },
  {
   "cell_type": "code",
   "execution_count": 5,
   "metadata": {},
   "outputs": [
    {
     "name": "stderr",
     "output_type": "stream",
     "text": [
      "Using TensorFlow backend.\n"
     ]
    }
   ],
   "source": [
    "import os\n",
    "import keras\n",
    "\n",
    "# 請嘗試設定 GPU：os.environ\n"
   ]
  },
  {
   "cell_type": "code",
   "execution_count": 6,
   "metadata": {},
   "outputs": [],
   "source": [
    "train, test = keras.datasets.cifar10.load_data()"
   ]
  },
  {
   "cell_type": "markdown",
   "metadata": {},
   "source": [
    "## 資料前處理\n",
    "\"\"\"\n",
    "Your code here\n",
    "\"\"\"\n",
    "def preproc_x(x, flatten=True):\n",
    "    x = x / 255.\n",
    "    if flatten:\n",
    "        x = x.reshape((len(x), -1))\n",
    "    return x\n",
    "\n",
    "def preproc_y(y, num_classes=10):\n",
    "    if y.shape[-1] == 1:\n",
    "        y = keras.utils.to_categorical(y, num_classes)\n",
    "    return y    "
   ]
  },
  {
   "cell_type": "code",
   "execution_count": 7,
   "metadata": {},
   "outputs": [],
   "source": [
    "#請嘗試將 preproc_x 替換成以每筆資料的 min/max 進行標準化至 -1 ~ 1 間，再進行訓練\n",
    "def preproc_x(x, flatten=True):\n",
    "    a = x.min()\n",
    "    b = x.max()\n",
    "    x = (x - a)/(b - a) \n",
    "    if flatten:\n",
    "        x = x.reshape((len(x), -1))\n",
    "    return x\n",
    "\n",
    "def preproc_y(y, num_classes=10):\n",
    "    if y.shape[-1] == 1:\n",
    "        y = keras.utils.to_categorical(y, num_classes)\n",
    "    return y"
   ]
  },
  {
   "cell_type": "code",
   "execution_count": 8,
   "metadata": {},
   "outputs": [],
   "source": [
    "x_train, y_train = train\n",
    "x_test, y_test = test\n",
    "\n",
    "# Preproc the inputs\n",
    "x_train = preproc_x(x_train)\n",
    "x_test = preproc_x(x_test)\n",
    "\n",
    "# Preprc the outputs\n",
    "y_train = preproc_y(y_train)\n",
    "y_test = preproc_y(y_test)"
   ]
  },
  {
   "cell_type": "markdown",
   "metadata": {},
   "source": [
    "Work\n",
    "\n",
    "    請嘗試將 preproc_x 替換成以每筆資料的 min/max 進行標準化至 -1 ~ 1 間，再進行訓練\n",
    "    請嘗試將 mlp 疊更深 (e.g 5~10 層)，進行訓練後觀察 learning curve 的走勢\n",
    "    (optional) 請改用 GPU 進行訓練 (如果你有 GPU 的話)，比較使用 CPU 與 GPU 的訓練速度\n",
    "\n"
   ]
  },
  {
   "cell_type": "code",
   "execution_count": 9,
   "metadata": {},
   "outputs": [
    {
     "name": "stderr",
     "output_type": "stream",
     "text": [
      "WARNING: Logging before flag parsing goes to stderr.\n",
      "W0716 09:05:26.955127 140280821536576 deprecation_wrapper.py:119] From /usr/local/lib/python3.6/dist-packages/keras/backend/tensorflow_backend.py:74: The name tf.get_default_graph is deprecated. Please use tf.compat.v1.get_default_graph instead.\n",
      "\n",
      "W0716 09:05:26.989174 140280821536576 deprecation_wrapper.py:119] From /usr/local/lib/python3.6/dist-packages/keras/backend/tensorflow_backend.py:517: The name tf.placeholder is deprecated. Please use tf.compat.v1.placeholder instead.\n",
      "\n",
      "W0716 09:05:26.993367 140280821536576 deprecation_wrapper.py:119] From /usr/local/lib/python3.6/dist-packages/keras/backend/tensorflow_backend.py:4138: The name tf.random_uniform is deprecated. Please use tf.random.uniform instead.\n",
      "\n"
     ]
    },
    {
     "name": "stdout",
     "output_type": "stream",
     "text": [
      "_________________________________________________________________\n",
      "Layer (type)                 Output Shape              Param #   \n",
      "=================================================================\n",
      "input_1 (InputLayer)         (None, 3072)              0         \n",
      "_________________________________________________________________\n",
      "hidden_layer1 (Dense)        (None, 512)               1573376   \n",
      "_________________________________________________________________\n",
      "hidden_layer2 (Dense)        (None, 256)               131328    \n",
      "_________________________________________________________________\n",
      "hidden_layer3 (Dense)        (None, 128)               32896     \n",
      "_________________________________________________________________\n",
      "hidden_layer4 (Dense)        (None, 64)                8256      \n",
      "_________________________________________________________________\n",
      "hidden_layer5 (Dense)        (None, 32)                2080      \n",
      "_________________________________________________________________\n",
      "output (Dense)               (None, 10)                330       \n",
      "=================================================================\n",
      "Total params: 1,748,266\n",
      "Trainable params: 1,748,266\n",
      "Non-trainable params: 0\n",
      "_________________________________________________________________\n"
     ]
    }
   ],
   "source": [
    "\"\"\"Code Here\n",
    "建立你的神經網路\n",
    "\"\"\"\n",
    "#請嘗試將 mlp 疊更深 (e.g 5~10 層)，進行訓練後觀察 learning curve 的走勢\n",
    "def build_mlp(input_shape, output_units=10, num_neurons=[512, 256, 128,64,32]):\n",
    "    input_layer = keras.layers.Input(input_shape)\n",
    "    \n",
    "    for i, n_units in enumerate(num_neurons):\n",
    "        if i == 0:\n",
    "            x = keras.layers.Dense(units=n_units, activation=\"relu\", name=\"hidden_layer\"+str(i+1))(input_layer)\n",
    "        else:\n",
    "            x = keras.layers.Dense(units=n_units, activation=\"relu\", name=\"hidden_layer\"+str(i+1))(x)\n",
    "    \n",
    "    out = keras.layers.Dense(units=output_units, activation=\"softmax\", name=\"output\")(x)\n",
    "    \n",
    "    model = keras.models.Model(inputs=[input_layer], outputs=[out])\n",
    "    return model\n",
    "model = build_mlp(input_shape=x_train.shape[1:])\n",
    "model.summary()\n"
   ]
  },
  {
   "cell_type": "code",
   "execution_count": 10,
   "metadata": {},
   "outputs": [],
   "source": [
    "## 超參數設定\n",
    "LEARNING_RATE = 0.001\n",
    "EPOCHS = 100\n",
    "BATCH_SIZE = 256"
   ]
  },
  {
   "cell_type": "code",
   "execution_count": 11,
   "metadata": {},
   "outputs": [
    {
     "name": "stderr",
     "output_type": "stream",
     "text": [
      "W0716 09:05:29.279902 140280821536576 deprecation_wrapper.py:119] From /usr/local/lib/python3.6/dist-packages/keras/optimizers.py:790: The name tf.train.Optimizer is deprecated. Please use tf.compat.v1.train.Optimizer instead.\n",
      "\n",
      "W0716 09:05:29.288313 140280821536576 deprecation_wrapper.py:119] From /usr/local/lib/python3.6/dist-packages/keras/backend/tensorflow_backend.py:3295: The name tf.log is deprecated. Please use tf.math.log instead.\n",
      "\n"
     ]
    }
   ],
   "source": [
    "optimizer = keras.optimizers.Adam(lr=LEARNING_RATE)\n",
    "model.compile(loss=\"categorical_crossentropy\", metrics=[\"accuracy\"], optimizer=optimizer)"
   ]
  },
  {
   "cell_type": "code",
   "execution_count": 12,
   "metadata": {},
   "outputs": [
    {
     "name": "stderr",
     "output_type": "stream",
     "text": [
      "W0716 09:05:30.611162 140280821536576 deprecation.py:323] From /usr/local/lib/python3.6/dist-packages/tensorflow/python/ops/math_grad.py:1250: add_dispatch_support.<locals>.wrapper (from tensorflow.python.ops.array_ops) is deprecated and will be removed in a future version.\n",
      "Instructions for updating:\n",
      "Use tf.where in 2.0, which has the same broadcast rule as np.where\n",
      "W0716 09:05:30.662597 140280821536576 deprecation_wrapper.py:119] From /usr/local/lib/python3.6/dist-packages/keras/backend/tensorflow_backend.py:986: The name tf.assign_add is deprecated. Please use tf.compat.v1.assign_add instead.\n",
      "\n"
     ]
    },
    {
     "name": "stdout",
     "output_type": "stream",
     "text": [
      "Train on 50000 samples, validate on 10000 samples\n",
      "Epoch 1/100\n",
      "50000/50000 [==============================] - 13s 258us/step - loss: 2.0107 - acc: 0.2587 - val_loss: 1.8576 - val_acc: 0.3324\n",
      "Epoch 2/100\n",
      "50000/50000 [==============================] - 12s 246us/step - loss: 1.7812 - acc: 0.3574 - val_loss: 1.8028 - val_acc: 0.3483\n",
      "Epoch 3/100\n",
      "50000/50000 [==============================] - 12s 238us/step - loss: 1.6715 - acc: 0.3991 - val_loss: 1.6380 - val_acc: 0.4143\n",
      "Epoch 4/100\n",
      "50000/50000 [==============================] - 12s 237us/step - loss: 1.5832 - acc: 0.4337 - val_loss: 1.5601 - val_acc: 0.4438\n",
      "Epoch 5/100\n",
      "50000/50000 [==============================] - 12s 246us/step - loss: 1.5386 - acc: 0.4481 - val_loss: 1.5498 - val_acc: 0.4432\n",
      "Epoch 6/100\n",
      "50000/50000 [==============================] - 12s 241us/step - loss: 1.4970 - acc: 0.4640 - val_loss: 1.4865 - val_acc: 0.4701\n",
      "Epoch 7/100\n",
      "50000/50000 [==============================] - 13s 253us/step - loss: 1.4617 - acc: 0.4759 - val_loss: 1.4857 - val_acc: 0.4688\n",
      "Epoch 8/100\n",
      "50000/50000 [==============================] - 13s 261us/step - loss: 1.4310 - acc: 0.4864 - val_loss: 1.4655 - val_acc: 0.4783\n",
      "Epoch 9/100\n",
      "50000/50000 [==============================] - 13s 259us/step - loss: 1.4073 - acc: 0.4981 - val_loss: 1.4445 - val_acc: 0.4926\n",
      "Epoch 10/100\n",
      "50000/50000 [==============================] - 12s 244us/step - loss: 1.3790 - acc: 0.5068 - val_loss: 1.4161 - val_acc: 0.4992\n",
      "Epoch 11/100\n",
      "50000/50000 [==============================] - 12s 245us/step - loss: 1.3574 - acc: 0.5121 - val_loss: 1.3969 - val_acc: 0.5050\n",
      "Epoch 12/100\n",
      "50000/50000 [==============================] - 12s 244us/step - loss: 1.3285 - acc: 0.5267 - val_loss: 1.4122 - val_acc: 0.4906\n",
      "Epoch 13/100\n",
      "50000/50000 [==============================] - 13s 251us/step - loss: 1.3073 - acc: 0.5324 - val_loss: 1.3964 - val_acc: 0.5067\n",
      "Epoch 14/100\n",
      "50000/50000 [==============================] - 13s 260us/step - loss: 1.2809 - acc: 0.5395 - val_loss: 1.4315 - val_acc: 0.4969\n",
      "Epoch 15/100\n",
      "50000/50000 [==============================] - 13s 261us/step - loss: 1.2485 - acc: 0.5538 - val_loss: 1.4180 - val_acc: 0.4964\n",
      "Epoch 16/100\n",
      "50000/50000 [==============================] - 13s 262us/step - loss: 1.2459 - acc: 0.5546 - val_loss: 1.3776 - val_acc: 0.5123\n",
      "Epoch 17/100\n",
      "50000/50000 [==============================] - 14s 275us/step - loss: 1.2188 - acc: 0.5636 - val_loss: 1.3781 - val_acc: 0.5181\n",
      "Epoch 18/100\n",
      "50000/50000 [==============================] - 15s 300us/step - loss: 1.1990 - acc: 0.5698 - val_loss: 1.3933 - val_acc: 0.5118\n",
      "Epoch 19/100\n",
      "50000/50000 [==============================] - 14s 285us/step - loss: 1.1738 - acc: 0.5795 - val_loss: 1.3805 - val_acc: 0.5155\n",
      "Epoch 20/100\n",
      "50000/50000 [==============================] - 15s 294us/step - loss: 1.1558 - acc: 0.5877 - val_loss: 1.3787 - val_acc: 0.5191\n",
      "Epoch 21/100\n",
      "50000/50000 [==============================] - 14s 289us/step - loss: 1.1356 - acc: 0.5953 - val_loss: 1.3506 - val_acc: 0.5255\n",
      "Epoch 22/100\n",
      "50000/50000 [==============================] - 15s 298us/step - loss: 1.1229 - acc: 0.5992 - val_loss: 1.3814 - val_acc: 0.5182\n",
      "Epoch 23/100\n",
      "50000/50000 [==============================] - 14s 286us/step - loss: 1.1039 - acc: 0.6061 - val_loss: 1.3788 - val_acc: 0.5197\n",
      "Epoch 24/100\n",
      "50000/50000 [==============================] - 15s 291us/step - loss: 1.0861 - acc: 0.6086 - val_loss: 1.4174 - val_acc: 0.5103\n",
      "Epoch 25/100\n",
      "50000/50000 [==============================] - 15s 291us/step - loss: 1.0668 - acc: 0.6164 - val_loss: 1.3699 - val_acc: 0.5256\n",
      "Epoch 26/100\n",
      "50000/50000 [==============================] - 15s 294us/step - loss: 1.0434 - acc: 0.6246 - val_loss: 1.3926 - val_acc: 0.5274\n",
      "Epoch 27/100\n",
      "50000/50000 [==============================] - 16s 315us/step - loss: 1.0353 - acc: 0.6283 - val_loss: 1.4037 - val_acc: 0.5273\n",
      "Epoch 28/100\n",
      "50000/50000 [==============================] - 12s 248us/step - loss: 1.0204 - acc: 0.6337 - val_loss: 1.4125 - val_acc: 0.5153\n",
      "Epoch 29/100\n",
      "50000/50000 [==============================] - 12s 238us/step - loss: 0.9904 - acc: 0.6409 - val_loss: 1.4106 - val_acc: 0.5271\n",
      "Epoch 30/100\n",
      "50000/50000 [==============================] - 12s 232us/step - loss: 0.9761 - acc: 0.6490 - val_loss: 1.4202 - val_acc: 0.5232\n",
      "Epoch 31/100\n",
      "50000/50000 [==============================] - 12s 233us/step - loss: 0.9570 - acc: 0.6541 - val_loss: 1.4922 - val_acc: 0.5124\n",
      "Epoch 32/100\n",
      "50000/50000 [==============================] - 12s 240us/step - loss: 0.9439 - acc: 0.6592 - val_loss: 1.4728 - val_acc: 0.5115\n",
      "Epoch 33/100\n",
      "50000/50000 [==============================] - 12s 237us/step - loss: 0.9283 - acc: 0.6659 - val_loss: 1.4577 - val_acc: 0.5239\n",
      "Epoch 34/100\n",
      "50000/50000 [==============================] - 12s 231us/step - loss: 0.9144 - acc: 0.6703 - val_loss: 1.4700 - val_acc: 0.5146\n",
      "Epoch 35/100\n",
      "50000/50000 [==============================] - 11s 229us/step - loss: 0.8988 - acc: 0.6765 - val_loss: 1.5191 - val_acc: 0.5162\n",
      "Epoch 36/100\n",
      "50000/50000 [==============================] - 12s 236us/step - loss: 0.8908 - acc: 0.6778 - val_loss: 1.5076 - val_acc: 0.5206\n",
      "Epoch 37/100\n",
      "50000/50000 [==============================] - 12s 239us/step - loss: 0.8837 - acc: 0.6817 - val_loss: 1.5345 - val_acc: 0.5143\n",
      "Epoch 38/100\n",
      "50000/50000 [==============================] - 7s 135us/step - loss: 0.8539 - acc: 0.6940 - val_loss: 1.5058 - val_acc: 0.5209\n",
      "Epoch 39/100\n",
      "50000/50000 [==============================] - 7s 133us/step - loss: 0.8345 - acc: 0.6991 - val_loss: 1.5480 - val_acc: 0.5187\n",
      "Epoch 40/100\n",
      "50000/50000 [==============================] - 7s 133us/step - loss: 0.8276 - acc: 0.7013 - val_loss: 1.5451 - val_acc: 0.5217\n",
      "Epoch 41/100\n",
      "50000/50000 [==============================] - 7s 131us/step - loss: 0.8035 - acc: 0.7088 - val_loss: 1.5631 - val_acc: 0.5195\n",
      "Epoch 42/100\n",
      "50000/50000 [==============================] - 7s 133us/step - loss: 0.7949 - acc: 0.7122 - val_loss: 1.5700 - val_acc: 0.5212\n",
      "Epoch 43/100\n",
      "50000/50000 [==============================] - 7s 131us/step - loss: 0.7674 - acc: 0.7227 - val_loss: 1.6496 - val_acc: 0.5091\n",
      "Epoch 44/100\n",
      "50000/50000 [==============================] - 7s 133us/step - loss: 0.7729 - acc: 0.7203 - val_loss: 1.6062 - val_acc: 0.5220\n",
      "Epoch 45/100\n",
      "50000/50000 [==============================] - 6s 130us/step - loss: 0.7477 - acc: 0.7316 - val_loss: 1.6020 - val_acc: 0.5290\n",
      "Epoch 46/100\n",
      "50000/50000 [==============================] - 7s 133us/step - loss: 0.7364 - acc: 0.7329 - val_loss: 1.6751 - val_acc: 0.5168\n",
      "Epoch 47/100\n",
      "50000/50000 [==============================] - 7s 133us/step - loss: 0.7330 - acc: 0.7361 - val_loss: 1.6895 - val_acc: 0.5133\n",
      "Epoch 48/100\n",
      "50000/50000 [==============================] - 7s 130us/step - loss: 0.7193 - acc: 0.7405 - val_loss: 1.6790 - val_acc: 0.5147\n",
      "Epoch 49/100\n",
      "50000/50000 [==============================] - 7s 134us/step - loss: 0.6948 - acc: 0.7505 - val_loss: 1.7071 - val_acc: 0.5155\n",
      "Epoch 50/100\n",
      "50000/50000 [==============================] - 6s 126us/step - loss: 0.6845 - acc: 0.7521 - val_loss: 1.7585 - val_acc: 0.5210\n",
      "Epoch 51/100\n",
      "50000/50000 [==============================] - 7s 131us/step - loss: 0.6855 - acc: 0.7509 - val_loss: 1.8427 - val_acc: 0.5045\n",
      "Epoch 52/100\n",
      "50000/50000 [==============================] - 7s 136us/step - loss: 0.6672 - acc: 0.7608 - val_loss: 1.7177 - val_acc: 0.5206\n",
      "Epoch 53/100\n",
      "50000/50000 [==============================] - 7s 133us/step - loss: 0.6395 - acc: 0.7699 - val_loss: 1.8526 - val_acc: 0.5164\n",
      "Epoch 54/100\n",
      "50000/50000 [==============================] - 7s 135us/step - loss: 0.6311 - acc: 0.7733 - val_loss: 1.8044 - val_acc: 0.5166\n",
      "Epoch 55/100\n",
      "50000/50000 [==============================] - 7s 131us/step - loss: 0.6362 - acc: 0.7685 - val_loss: 1.8458 - val_acc: 0.5200\n",
      "Epoch 56/100\n",
      "50000/50000 [==============================] - 7s 131us/step - loss: 0.6240 - acc: 0.7735 - val_loss: 1.9268 - val_acc: 0.5066\n",
      "Epoch 57/100\n",
      "50000/50000 [==============================] - 7s 132us/step - loss: 0.5988 - acc: 0.7850 - val_loss: 1.9126 - val_acc: 0.5221\n",
      "Epoch 58/100\n",
      "50000/50000 [==============================] - 6s 129us/step - loss: 0.6043 - acc: 0.7805 - val_loss: 1.9394 - val_acc: 0.5113\n"
     ]
    },
    {
     "name": "stdout",
     "output_type": "stream",
     "text": [
      "Epoch 59/100\n",
      "50000/50000 [==============================] - 6s 128us/step - loss: 0.5941 - acc: 0.7852 - val_loss: 1.9528 - val_acc: 0.5137\n",
      "Epoch 60/100\n",
      "50000/50000 [==============================] - 6s 126us/step - loss: 0.5692 - acc: 0.7935 - val_loss: 1.9750 - val_acc: 0.5107\n",
      "Epoch 61/100\n",
      "50000/50000 [==============================] - 7s 132us/step - loss: 0.5808 - acc: 0.7908 - val_loss: 1.9041 - val_acc: 0.5181\n",
      "Epoch 62/100\n",
      "50000/50000 [==============================] - 6s 130us/step - loss: 0.5586 - acc: 0.7971 - val_loss: 1.9677 - val_acc: 0.5164\n",
      "Epoch 63/100\n",
      "50000/50000 [==============================] - 6s 126us/step - loss: 0.5488 - acc: 0.8008 - val_loss: 2.0670 - val_acc: 0.5164\n",
      "Epoch 64/100\n",
      "50000/50000 [==============================] - 7s 131us/step - loss: 0.5293 - acc: 0.8084 - val_loss: 2.1347 - val_acc: 0.5107\n",
      "Epoch 65/100\n",
      "50000/50000 [==============================] - 6s 127us/step - loss: 0.5379 - acc: 0.8068 - val_loss: 2.1156 - val_acc: 0.5131\n",
      "Epoch 66/100\n",
      "50000/50000 [==============================] - 6s 128us/step - loss: 0.5294 - acc: 0.8092 - val_loss: 2.1130 - val_acc: 0.5120\n",
      "Epoch 67/100\n",
      "50000/50000 [==============================] - 6s 128us/step - loss: 0.5267 - acc: 0.8096 - val_loss: 2.1192 - val_acc: 0.5103\n",
      "Epoch 68/100\n",
      "50000/50000 [==============================] - 6s 126us/step - loss: 0.5073 - acc: 0.8180 - val_loss: 2.1446 - val_acc: 0.5118\n",
      "Epoch 69/100\n",
      "50000/50000 [==============================] - 7s 131us/step - loss: 0.5041 - acc: 0.8197 - val_loss: 2.2261 - val_acc: 0.5107\n",
      "Epoch 70/100\n",
      "50000/50000 [==============================] - 6s 128us/step - loss: 0.4804 - acc: 0.8265 - val_loss: 2.1761 - val_acc: 0.5121\n",
      "Epoch 71/100\n",
      "50000/50000 [==============================] - 6s 130us/step - loss: 0.4963 - acc: 0.8194 - val_loss: 2.2099 - val_acc: 0.5177\n",
      "Epoch 72/100\n",
      "50000/50000 [==============================] - 6s 128us/step - loss: 0.4638 - acc: 0.8312 - val_loss: 2.2651 - val_acc: 0.5118\n",
      "Epoch 73/100\n",
      "50000/50000 [==============================] - 6s 128us/step - loss: 0.4709 - acc: 0.8313 - val_loss: 2.2523 - val_acc: 0.5103\n",
      "Epoch 74/100\n",
      "50000/50000 [==============================] - 6s 129us/step - loss: 0.4677 - acc: 0.8294 - val_loss: 2.3487 - val_acc: 0.4962\n",
      "Epoch 75/100\n",
      "50000/50000 [==============================] - 6s 126us/step - loss: 0.4750 - acc: 0.8266 - val_loss: 2.3557 - val_acc: 0.5119\n",
      "Epoch 76/100\n",
      "50000/50000 [==============================] - 6s 128us/step - loss: 0.4568 - acc: 0.8350 - val_loss: 2.3273 - val_acc: 0.5123\n",
      "Epoch 77/100\n",
      "50000/50000 [==============================] - 6s 128us/step - loss: 0.4297 - acc: 0.8455 - val_loss: 2.4182 - val_acc: 0.5074\n",
      "Epoch 78/100\n",
      "50000/50000 [==============================] - 6s 128us/step - loss: 0.4555 - acc: 0.8337 - val_loss: 2.3565 - val_acc: 0.5049\n",
      "Epoch 79/100\n",
      "50000/50000 [==============================] - 6s 129us/step - loss: 0.4313 - acc: 0.8451 - val_loss: 2.3710 - val_acc: 0.5109\n",
      "Epoch 80/100\n",
      "50000/50000 [==============================] - 6s 125us/step - loss: 0.4275 - acc: 0.8468 - val_loss: 2.4968 - val_acc: 0.5017\n",
      "Epoch 81/100\n",
      "50000/50000 [==============================] - 6s 127us/step - loss: 0.4324 - acc: 0.8436 - val_loss: 2.5014 - val_acc: 0.5114\n",
      "Epoch 82/100\n",
      "50000/50000 [==============================] - 6s 122us/step - loss: 0.4169 - acc: 0.8481 - val_loss: 2.5466 - val_acc: 0.5043\n",
      "Epoch 83/100\n",
      "50000/50000 [==============================] - 6s 118us/step - loss: 0.3996 - acc: 0.8553 - val_loss: 2.4444 - val_acc: 0.5093\n",
      "Epoch 84/100\n",
      "50000/50000 [==============================] - 6s 124us/step - loss: 0.3679 - acc: 0.8673 - val_loss: 2.5635 - val_acc: 0.5128\n",
      "Epoch 85/100\n",
      "50000/50000 [==============================] - 6s 130us/step - loss: 0.4130 - acc: 0.8496 - val_loss: 2.5711 - val_acc: 0.5037\n",
      "Epoch 86/100\n",
      "50000/50000 [==============================] - 6s 129us/step - loss: 0.3722 - acc: 0.8655 - val_loss: 2.6481 - val_acc: 0.5038\n",
      "Epoch 87/100\n",
      "50000/50000 [==============================] - 7s 132us/step - loss: 0.3848 - acc: 0.8607 - val_loss: 2.6386 - val_acc: 0.5084\n",
      "Epoch 88/100\n",
      "50000/50000 [==============================] - 6s 127us/step - loss: 0.3807 - acc: 0.8620 - val_loss: 2.7044 - val_acc: 0.5055\n",
      "Epoch 89/100\n",
      "50000/50000 [==============================] - 7s 133us/step - loss: 0.3613 - acc: 0.8704 - val_loss: 2.7260 - val_acc: 0.5020\n",
      "Epoch 90/100\n",
      "50000/50000 [==============================] - 6s 129us/step - loss: 0.4063 - acc: 0.8527 - val_loss: 2.6863 - val_acc: 0.5096\n",
      "Epoch 91/100\n",
      "50000/50000 [==============================] - 6s 124us/step - loss: 0.3594 - acc: 0.8720 - val_loss: 2.7004 - val_acc: 0.5086\n",
      "Epoch 92/100\n",
      "50000/50000 [==============================] - 7s 132us/step - loss: 0.3585 - acc: 0.8710 - val_loss: 2.6818 - val_acc: 0.5119\n",
      "Epoch 93/100\n",
      "50000/50000 [==============================] - 6s 126us/step - loss: 0.3689 - acc: 0.8666 - val_loss: 2.7944 - val_acc: 0.5005\n",
      "Epoch 94/100\n",
      "50000/50000 [==============================] - 7s 132us/step - loss: 0.3547 - acc: 0.8706 - val_loss: 2.7927 - val_acc: 0.5007\n",
      "Epoch 95/100\n",
      "50000/50000 [==============================] - 6s 127us/step - loss: 0.3465 - acc: 0.8738 - val_loss: 2.9311 - val_acc: 0.4978\n",
      "Epoch 96/100\n",
      "50000/50000 [==============================] - 6s 127us/step - loss: 0.3442 - acc: 0.8753 - val_loss: 2.8724 - val_acc: 0.4994\n",
      "Epoch 97/100\n",
      "50000/50000 [==============================] - 7s 132us/step - loss: 0.3412 - acc: 0.8780 - val_loss: 2.8481 - val_acc: 0.5055\n",
      "Epoch 98/100\n",
      "50000/50000 [==============================] - 6s 130us/step - loss: 0.3248 - acc: 0.8838 - val_loss: 2.9032 - val_acc: 0.4951\n",
      "Epoch 99/100\n",
      "50000/50000 [==============================] - 7s 135us/step - loss: 0.3424 - acc: 0.8771 - val_loss: 2.9186 - val_acc: 0.5051\n",
      "Epoch 100/100\n",
      "50000/50000 [==============================] - 6s 129us/step - loss: 0.3228 - acc: 0.8844 - val_loss: 3.0061 - val_acc: 0.4923\n"
     ]
    },
    {
     "data": {
      "text/plain": [
       "<keras.callbacks.History at 0x7f956a265668>"
      ]
     },
     "execution_count": 12,
     "metadata": {},
     "output_type": "execute_result"
    }
   ],
   "source": [
    "model.fit(x_train, y_train, \n",
    "          epochs=EPOCHS, \n",
    "          batch_size=BATCH_SIZE, \n",
    "          validation_data=(x_test, y_test), \n",
    "          shuffle=True)"
   ]
  },
  {
   "cell_type": "code",
   "execution_count": 14,
   "metadata": {},
   "outputs": [
    {
     "data": {
      "image/png": "[encoded data removed]",
      "text/plain": [
       "<Figure size 432x288 with 1 Axes>"
      ]
     },
     "metadata": {
      "needs_background": "light"
     },
     "output_type": "display_data"
    },
    {
     "data": {
      "image/png": "[encoded data removed]",
      "text/plain": [
       "<Figure size 432x288 with 1 Axes>"
      ]
     },
     "metadata": {
      "needs_background": "light"
     },
     "output_type": "display_data"
    }
   ],
   "source": [
    "import matplotlib.pyplot as plt\n",
    "\n",
    "\n",
    "train_loss = model.history.history[\"loss\"]\n",
    "valid_loss = model.history.history[\"val_loss\"]\n",
    "\n",
    "train_acc = model.history.history[\"acc\"]\n",
    "valid_acc = model.history.history[\"val_acc\"]\n",
    "\n",
    "plt.plot(range(len(train_loss)), train_loss, label=\"train loss\")\n",
    "plt.plot(range(len(valid_loss)), valid_loss, label=\"valid loss\")\n",
    "plt.legend()\n",
    "plt.title(\"Loss\")\n",
    "plt.show()\n",
    "\n",
    "plt.plot(range(len(train_acc)), train_acc, label=\"train accuracy\")\n",
    "plt.plot(range(len(valid_acc)), valid_acc, label=\"valid accuracy\")\n",
    "plt.legend()\n",
    "plt.title(\"Accuracy\")\n",
    "plt.show()"
   ]
  },
  {
   "cell_type": "code",
   "execution_count": null,
   "metadata": {},
   "outputs": [],
   "source": []
  }
 ],
 "metadata": {
  "kernelspec": {
   "display_name": "Python 3",
   "language": "python",
   "name": "python3"
  },
  "language_info": {
   "codemirror_mode": {
    "name": "ipython",
    "version": 3
   },
   "file_extension": ".py",
   "mimetype": "text/x-python",
   "name": "python",
   "nbconvert_exporter": "python",
   "pygments_lexer": "ipython3",
   "version": "3.6.8"
  }
 },
 "nbformat": 4,
 "nbformat_minor": 2
}
